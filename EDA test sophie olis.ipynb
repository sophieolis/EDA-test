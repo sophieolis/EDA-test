{
 "cells": [
  {
   "cell_type": "markdown",
   "id": "9deff86a",
   "metadata": {},
   "source": [
    "# Exploratory Data Analysis EDA test"
   ]
  },
  {
   "cell_type": "markdown",
   "id": "1c8314c4",
   "metadata": {},
   "source": [
    "This is a test for the Data Science course of CodeOp. In this test I will use the airbnb dataset, already used in previous lessons, and I will try to get some insights."
   ]
  },
  {
   "cell_type": "markdown",
   "id": "7863708f",
   "metadata": {},
   "source": [
    "Firstly I will load everything I need to start to work.\n",
    "\n",
    "The next step is to get to know my dataframe (number of columns, rows, the columns that i consider more important, are there NaN values?, string or numerical values?, ...).\n",
    "\n",
    "Following the broad analysis of the dataframe we can start to do some data cleaning (data preprocessing, feature engineering, datetime format, ...)\n",
    "\n",
    "Then we can start doing some graphs and even some heat maps so we can get our firts insights."
   ]
  },
  {
   "cell_type": "markdown",
   "id": "802a2c39",
   "metadata": {},
   "source": [
    "## Load the packages and the dataset"
   ]
  },
  {
   "cell_type": "code",
   "execution_count": null,
   "id": "092af91c",
   "metadata": {},
   "outputs": [],
   "source": [
    "import pandas as pd\n",
    "from matplotlib import pyplot as plt\n",
    "import seaborn as sns"
   ]
  },
  {
   "cell_type": "code",
   "execution_count": null,
   "id": "aaedcbd2",
   "metadata": {},
   "outputs": [],
   "source": []
  }
 ],
 "metadata": {
  "kernelspec": {
   "display_name": "Python 3 (ipykernel)",
   "language": "python",
   "name": "python3"
  },
  "language_info": {
   "codemirror_mode": {
    "name": "ipython",
    "version": 3
   },
   "file_extension": ".py",
   "mimetype": "text/x-python",
   "name": "python",
   "nbconvert_exporter": "python",
   "pygments_lexer": "ipython3",
   "version": "3.9.13"
  }
 },
 "nbformat": 4,
 "nbformat_minor": 5
}
